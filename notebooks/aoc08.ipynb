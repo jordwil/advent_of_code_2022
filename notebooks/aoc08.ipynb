{
 "cells": [
  {
   "cell_type": "code",
   "execution_count": 1,
   "metadata": {},
   "outputs": [],
   "source": [
    "import numpy as np\n",
    "import seaborn as sns"
   ]
  },
  {
   "cell_type": "code",
   "execution_count": 2,
   "metadata": {},
   "outputs": [],
   "source": [
    "ex='''30373\n",
    "25512\n",
    "65332\n",
    "33549\n",
    "35390'''"
   ]
  },
  {
   "cell_type": "code",
   "execution_count": 3,
   "metadata": {},
   "outputs": [],
   "source": [
    "mat = np.array([list(map(int,list(cols))) for cols in  ex.split('\\n')])"
   ]
  },
  {
   "cell_type": "code",
   "execution_count": 4,
   "metadata": {},
   "outputs": [
    {
     "data": {
      "text/plain": [
       "<matplotlib.axes._subplots.AxesSubplot at 0x7fdae19a4340>"
      ]
     },
     "execution_count": 4,
     "metadata": {},
     "output_type": "execute_result"
    },
    {
     "data": {
      "image/png": "[encoded data removed]",
      "text/plain": [
       "<Figure size 432x288 with 2 Axes>"
      ]
     },
     "metadata": {
      "needs_background": "light"
     },
     "output_type": "display_data"
    }
   ],
   "source": [
    "sns.heatmap(mat, annot=True)"
   ]
  },
  {
   "cell_type": "code",
   "execution_count": 5,
   "metadata": {},
   "outputs": [],
   "source": [
    "with open('../data/in8.txt','r') as f:\n",
    "    lines = f.read()\n",
    "mat = np.array([list(map(int,list(cols))) for cols in lines.split('\\n')])"
   ]
  },
  {
   "cell_type": "code",
   "execution_count": 6,
   "metadata": {},
   "outputs": [
    {
     "data": {
      "text/plain": [
       "array([[0, 1, 2, ..., 3, 0, 1],\n",
       "       [2, 0, 0, ..., 2, 3, 2],\n",
       "       [0, 1, 2, ..., 2, 0, 2],\n",
       "       ...,\n",
       "       [3, 2, 1, ..., 1, 0, 1],\n",
       "       [3, 2, 1, ..., 3, 3, 1],\n",
       "       [2, 3, 1, ..., 0, 3, 0]])"
      ]
     },
     "execution_count": 6,
     "metadata": {},
     "output_type": "execute_result"
    }
   ],
   "source": [
    "mat"
   ]
  },
  {
   "cell_type": "code",
   "execution_count": 7,
   "metadata": {},
   "outputs": [],
   "source": [
    "# mat = np.array([list(map(int,list(cols))) for cols in  ex.split('\\n')])"
   ]
  },
  {
   "cell_type": "code",
   "execution_count": 8,
   "metadata": {},
   "outputs": [],
   "source": [
    "v_count=0\n",
    "for row in range(mat.shape[0]):\n",
    "    for col in range(mat.shape[1]):\n",
    "        \n",
    "        other_trees = [mat[:row,col],  mat[row+1:,col], mat[row, :col], mat[row, col+1:]]\n",
    "        far_edge = (mat.shape[0] - 1 )\n",
    "        if (row in [0, far_edge]) or (col in [0, far_edge]):\n",
    "            v_count+=1\n",
    "        else:\n",
    "            visible = any([all(np.greater(mat[row,col], dir_tree)) for dir_tree in other_trees])\n",
    "            v_count+=visible"
   ]
  },
  {
   "cell_type": "code",
   "execution_count": 9,
   "metadata": {},
   "outputs": [
    {
     "data": {
      "text/plain": [
       "1693"
      ]
     },
     "execution_count": 9,
     "metadata": {},
     "output_type": "execute_result"
    }
   ],
   "source": [
    "v_count"
   ]
  },
  {
   "cell_type": "code",
   "execution_count": 10,
   "metadata": {},
   "outputs": [],
   "source": [
    "def calc_score_side(tree, side):    \n",
    "    if all(np.greater(tree, side)):\n",
    "        result = len(side)\n",
    "    else:\n",
    "        result = np.argmax(~np.greater(tree, side))+1\n",
    "\n",
    "    return result\n",
    "\n",
    "\n",
    "tree_scores = []\n",
    "for row in range(mat.shape[0]):\n",
    "    for col in range(mat.shape[1]):\n",
    "        tree = mat[row,col]\n",
    "        far_edge = (mat.shape[0] - 1 )\n",
    "\n",
    "        if not (row in [0, far_edge]) or (col in [0, far_edge]):\n",
    "\n",
    "            other_trees = [mat[:row,col][::-1],  mat[row+1:,col], mat[row, :col][::-1], mat[row, col+1:]]\n",
    "            tree_score = np.prod([calc_score_side(tree, dir_tree) for dir_tree in other_trees])\n",
    "\n",
    "            tree_scores.append(tree_score)\n",
    "        else:\n",
    "            tree_scores.append(0)"
   ]
  },
  {
   "cell_type": "code",
   "execution_count": 11,
   "metadata": {},
   "outputs": [
    {
     "data": {
      "text/plain": [
       "422059"
      ]
     },
     "execution_count": 11,
     "metadata": {},
     "output_type": "execute_result"
    }
   ],
   "source": [
    "max(tree_scores)"
   ]
  }
 ],
 "metadata": {
  "kernelspec": {
   "display_name": "Python 3",
   "language": "python",
   "name": "python3"
  },
  "language_info": {
   "codemirror_mode": {
    "name": "ipython",
    "version": 3
   },
   "file_extension": ".py",
   "mimetype": "text/x-python",
   "name": "python",
   "nbconvert_exporter": "python",
   "pygments_lexer": "ipython3",
   "version": "3.8.2"
  }
 },
 "nbformat": 4,
 "nbformat_minor": 4
}
