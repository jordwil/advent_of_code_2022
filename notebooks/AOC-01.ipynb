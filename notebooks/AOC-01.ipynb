{
 "cells": [
  {
   "cell_type": "code",
   "execution_count": 59,
   "id": "727841f9",
   "metadata": {},
   "outputs": [],
   "source": [
    "in_f = '/locus/home/jwilheim/projects/AOC-01/data/external/in.txt'\n",
    "\n",
    "with open(in_f, 'r') as f:\n",
    "    cal_list = f.read().split(\"\\n\\n\")\n",
    "cal_list = [list(map(int, c.split('\\n'))) for c in cal_list]"
   ]
  },
  {
   "cell_type": "code",
   "execution_count": 60,
   "id": "bbb9a110",
   "metadata": {},
   "outputs": [],
   "source": [
    "totals = [sum(c) for c in cal_list]\n",
    "max_val = max(totals)"
   ]
  },
  {
   "cell_type": "code",
   "execution_count": 61,
   "id": "e7e1a9e0",
   "metadata": {},
   "outputs": [
    {
     "name": "stdout",
     "output_type": "stream",
     "text": [
      "71506\n",
      "112\n"
     ]
    }
   ],
   "source": [
    "# Top Cal Sum\n",
    "print(max_val)\n",
    "print(totals.index(max_val))"
   ]
  },
  {
   "cell_type": "code",
   "execution_count": null,
   "id": "279b793e",
   "metadata": {},
   "outputs": [],
   "source": []
  },
  {
   "cell_type": "code",
   "execution_count": 62,
   "id": "7ecb43e4",
   "metadata": {},
   "outputs": [
    {
     "data": {
      "text/plain": [
       "209603"
      ]
     },
     "execution_count": 62,
     "metadata": {},
     "output_type": "execute_result"
    }
   ],
   "source": [
    "# Top 3 Cal sums\n",
    "sum(sorted(totals)[-3:])"
   ]
  }
 ],
 "metadata": {
  "jupytext": {
   "cell_metadata_filter": "-all",
   "formats": "ipynb,py",
   "main_language": "python"
  },
  "kernelspec": {
   "display_name": "Python 3.7.0 ('ve')",
   "language": "python",
   "name": "python3"
  },
  "language_info": {
   "codemirror_mode": {
    "name": "ipython",
    "version": 3
   },
   "file_extension": ".py",
   "mimetype": "text/x-python",
   "name": "python",
   "nbconvert_exporter": "python",
   "pygments_lexer": "ipython3",
   "version": "3.7.0"
  },
  "vscode": {
   "interpreter": {
    "hash": "3f18d8c0da1d03211690cee4b12c1224f5d760d35eb89485ab12b196df87080b"
   }
  }
 },
 "nbformat": 4,
 "nbformat_minor": 5
}
