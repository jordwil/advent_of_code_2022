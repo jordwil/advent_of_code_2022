{
 "cells": [
  {
   "cell_type": "code",
   "execution_count": 13,
   "metadata": {},
   "outputs": [],
   "source": [
    "#    [C]         [Q]         [V]    \n",
    "#    [D]         [D] [S]     [M] [Z]\n",
    "#    [G]     [P] [W] [M]     [C] [G]\n",
    "#    [F]     [Z] [C] [D] [P] [S] [W]\n",
    "#[P] [L]     [C] [V] [W] [W] [H] [L]\n",
    "#[G] [B] [V] [R] [L] [N] [G] [P] [F]\n",
    "#[R] [T] [S] [S] [S] [T] [D] [L] [P]\n",
    "#[N] [J] [M] [L] [P] [C] [H] [Z] [R]\n",
    "# 1   2   3   4   5   6   7   8   9 "
   ]
  },
  {
   "cell_type": "code",
   "execution_count": 41,
   "metadata": {},
   "outputs": [],
   "source": [
    "grid=\"\"\"[C]         [Q]         [V]    \n",
    "    [D]         [D] [S]     [M] [Z]\n",
    "    [G]     [P] [W] [M]     [C] [G]\n",
    "    [F]     [Z] [C] [D] [P] [S] [W]\n",
    "[P] [L]     [C] [V] [W] [W] [H] [L]\n",
    "[G] [B] [V] [R] [L] [N] [G] [P] [F]\n",
    "[R] [T] [S] [S] [S] [T] [D] [L] [P]\n",
    "[N] [J] [M] [L] [P] [C] [H] [Z] [R]\n",
    "\"\"\""
   ]
  },
  {
   "cell_type": "code",
   "execution_count": 42,
   "metadata": {},
   "outputs": [
    {
     "name": "stdout",
     "output_type": "stream",
     "text": [
      "['[N]', '[J]', '[M]', '[L]', '[P]', '[C]', '[H]', '[Z]', '[R]']\n",
      "['[R]', '[T]', '[S]', '[S]', '[S]', '[T]', '[D]', '[L]', '[P]']\n",
      "['[G]', '[B]', '[V]', '[R]', '[L]', '[N]', '[G]', '[P]', '[F]']\n",
      "['[P]', '[L]', '', '', '', '', '[C]', '[V]', '[W]', '[W]', '[H]', '[L]']\n",
      "['', '', '', '', '[F]', '', '', '', '', '[Z]', '[C]', '[D]', '[P]', '[S]', '[W]']\n",
      "['', '', '', '', '[G]', '', '', '', '', '[P]', '[W]', '[M]', '', '', '', '', '[C]', '[G]']\n",
      "['', '', '', '', '[D]', '', '', '', '', '', '', '', '', '[D]', '[S]', '', '', '', '', '[M]', '[Z]']\n",
      "['[C]', '', '', '', '', '', '', '', '', '[Q]', '', '', '', '', '', '', '', '', '[V]', '', '', '', '']\n"
     ]
    }
   ],
   "source": [
    "for slice in grid.split(\"\\n\")[::-1][1:]:\n",
    "\n",
    "    for i in slice.split(' ')):\n",
    "        break"
   ]
  },
  {
   "cell_type": "code",
   "execution_count": 14,
   "metadata": {},
   "outputs": [],
   "source": [
    "crates = [['N', 'R', 'G', 'P'], ['J', 'T', 'B', 'L', 'F', 'G', 'D' ,'C'], ['M', 'S', 'V',], ['L', 'S', 'R', 'C', 'Z', 'P'], ['P', 'S', 'L', 'V', 'C', 'W', 'D', 'Q'],\n",
    "['C', 'T', 'N', 'W', 'D', 'M', 'S'], ['H', 'D', 'G', 'W', 'P'], ['Z' ,'L','P', 'H', 'S', 'C' ,'M', 'V'], ['R', 'P', 'F', 'L', 'W', 'G','Z']]"
   ]
  },
  {
   "cell_type": "code",
   "execution_count": 15,
   "metadata": {},
   "outputs": [],
   "source": [
    "with open(\"../data/aoc5.txt\", 'r') as f:\n",
    "    orders = [i.strip().split(' ') for i in f.readlines()]"
   ]
  },
  {
   "cell_type": "code",
   "execution_count": 16,
   "metadata": {},
   "outputs": [],
   "source": [
    "orders = [list(map( int, [i[1], i[3], i[5]])) for i in orders]"
   ]
  },
  {
   "cell_type": "code",
   "execution_count": 17,
   "metadata": {},
   "outputs": [],
   "source": [
    "# Move N from list 5 to list 6\n",
    "for num, pop_list, append_list in orders:\n",
    "    pop_list = pop_list -1 \n",
    "    append_list = append_list - 1\n",
    "\n",
    "    for i in range(num):\n",
    "        moving = crates[pop_list].pop()\n",
    "        crates[append_list].append(moving)"
   ]
  },
  {
   "cell_type": "code",
   "execution_count": 18,
   "metadata": {},
   "outputs": [
    {
     "data": {
      "text/plain": [
       "'VPCDMSLWJ'"
      ]
     },
     "execution_count": 18,
     "metadata": {},
     "output_type": "execute_result"
    }
   ],
   "source": [
    "''.join([c[-1] for c in crates])"
   ]
  },
  {
   "cell_type": "code",
   "execution_count": 19,
   "metadata": {},
   "outputs": [],
   "source": [
    "crates = [['N', 'R', 'G', 'P'], ['J', 'T', 'B', 'L', 'F', 'G', 'D' ,'C'], ['M', 'S', 'V',], ['L', 'S', 'R', 'C', 'Z', 'P'], ['P', 'S', 'L', 'V', 'C', 'W', 'D', 'Q'],\n",
    "['C', 'T', 'N', 'W', 'D', 'M', 'S'], ['H', 'D', 'G', 'W', 'P'], ['Z' ,'L','P', 'H', 'S', 'C' ,'M', 'V'], ['R', 'P', 'F', 'L', 'W', 'G','Z']]"
   ]
  },
  {
   "cell_type": "code",
   "execution_count": 20,
   "metadata": {},
   "outputs": [],
   "source": [
    "# PT 2\n",
    "\n",
    "for num, pop_list, append_list in orders:\n",
    "    pop_list = pop_list -1 \n",
    "    append_list = append_list - 1\n",
    "\n",
    "    moving = crates[pop_list][-num:]\n",
    "    \n",
    "    for i in range(num):\n",
    "        crates[pop_list].pop()\n",
    "    \n",
    "    \n",
    "    crates[append_list] = crates[append_list] + moving\n",
    "    "
   ]
  },
  {
   "cell_type": "code",
   "execution_count": 21,
   "metadata": {},
   "outputs": [
    {
     "data": {
      "text/plain": [
       "'TPWCGNCCG'"
      ]
     },
     "execution_count": 21,
     "metadata": {},
     "output_type": "execute_result"
    }
   ],
   "source": [
    "''.join([c[-1] for c in crates])"
   ]
  },
  {
   "cell_type": "code",
   "execution_count": 22,
   "metadata": {},
   "outputs": [],
   "source": [
    "a = [1,2,3]"
   ]
  },
  {
   "cell_type": "code",
   "execution_count": 23,
   "metadata": {},
   "outputs": [
    {
     "ename": "TypeError",
     "evalue": "list.append() takes exactly one argument (3 given)",
     "output_type": "error",
     "traceback": [
      "\u001b[0;31m---------------------------------------------------------------------------\u001b[0m",
      "\u001b[0;31mTypeError\u001b[0m                                 Traceback (most recent call last)",
      "\u001b[1;32m/home/jrazer/projects/aoc-2022/notebooks/aoc5.ipynb Cell 11\u001b[0m in \u001b[0;36m<cell line: 1>\u001b[0;34m()\u001b[0m\n\u001b[0;32m----> <a href='vscode-notebook-cell://wsl%2Bubuntu/home/jrazer/projects/aoc-2022/notebooks/aoc5.ipynb#X16sdnNjb2RlLXJlbW90ZQ%3D%3D?line=0'>1</a>\u001b[0m a\u001b[39m.\u001b[39;49mappend(\u001b[39m*\u001b[39;49m[\u001b[39m3\u001b[39;49m,\u001b[39m4\u001b[39;49m,\u001b[39m5\u001b[39;49m])\n",
      "\u001b[0;31mTypeError\u001b[0m: list.append() takes exactly one argument (3 given)"
     ]
    }
   ],
   "source": [
    "a.append(*[3,4,5])"
   ]
  },
  {
   "cell_type": "code",
   "execution_count": null,
   "metadata": {},
   "outputs": [],
   "source": []
  }
 ],
 "metadata": {
  "kernelspec": {
   "display_name": "Python 3.10.4 ('datasci': conda)",
   "language": "python",
   "name": "python3"
  },
  "language_info": {
   "codemirror_mode": {
    "name": "ipython",
    "version": 3
   },
   "file_extension": ".py",
   "mimetype": "text/x-python",
   "name": "python",
   "nbconvert_exporter": "python",
   "pygments_lexer": "ipython3",
   "version": "3.10.4"
  },
  "orig_nbformat": 4,
  "vscode": {
   "interpreter": {
    "hash": "a82a29ecac560280292e22e5a1f340ab2afb449ea4ea92d3ff4c82c10efcb363"
   }
  }
 },
 "nbformat": 4,
 "nbformat_minor": 2
}
