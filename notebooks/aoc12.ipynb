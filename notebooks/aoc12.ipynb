{
 "cells": [
  {
   "cell_type": "code",
   "execution_count": 12,
   "metadata": {},
   "outputs": [],
   "source": [
    "import numpy as np"
   ]
  },
  {
   "cell_type": "code",
   "execution_count": 13,
   "metadata": {},
   "outputs": [
    {
     "data": {
      "text/plain": [
       "'`'"
      ]
     },
     "execution_count": 13,
     "metadata": {},
     "output_type": "execute_result"
    }
   ],
   "source": [
    "# Replace \"E\" with \"{\"\n",
    "chr(123)\n",
    "# Replace \"S\" with \"`\"\n",
    "chr(96)"
   ]
  },
  {
   "cell_type": "code",
   "execution_count": 24,
   "metadata": {},
   "outputs": [],
   "source": [
    "m=\"\"\"Sabqponm\n",
    "abcryxxl\n",
    "accszExk\n",
    "acctuvwj\n",
    "abdefghi\n",
    "\"\"\"\n",
    "\n",
    "with open('../data/aoc12.txt', 'r') as f:\n",
    "    m = f.read()\n",
    "\n",
    "m = m.replace('S', '`').replace('E','{')"
   ]
  },
  {
   "cell_type": "code",
   "execution_count": 26,
   "metadata": {},
   "outputs": [],
   "source": [
    "rows= []\n",
    "for row in m.split():\n",
    "    rows.append([ord(l) - 96 for l in row])"
   ]
  },
  {
   "cell_type": "code",
   "execution_count": 27,
   "metadata": {},
   "outputs": [],
   "source": [
    "def make_move(cp, mat):\n",
    "    adjacent = np.array([[0,1], [1,0], [-1,0],[0,-1]])\n",
    "    pot_moves = adjacent + cp \n",
    "\n",
    "    # Find adjacent positions where absoulte difference is == 1 \n",
    "    pot_moves = pot_moves[np.all((pot_moves) >= 0, axis=1)]\n",
    "    a=(pot_moves[:,0] < mat.shape[0]).reshape(-1,1)\n",
    "    b=(pot_moves[:,1] < mat.shape[1]).reshape(-1,1)\n",
    "    pot_moves = pot_moves[np.hstack([a,b]).all(axis=1)]\n",
    "    \n",
    "    valid_moves = abs(mat[pot_moves[:,0], pot_moves[:,1]] - mat[cp[0], cp[1]]) < 2\n",
    " \n",
    "    \n",
    "    new_p = pot_moves[valid_moves][0] # this is problematic if we're stuck and no options\n",
    "    mat[cp[0], cp[1]] = -99\n",
    "    return new_p"
   ]
  },
  {
   "cell_type": "code",
   "execution_count": 28,
   "metadata": {},
   "outputs": [
    {
     "ename": "IndexError",
     "evalue": "index 0 is out of bounds for axis 0 with size 0",
     "output_type": "error",
     "traceback": [
      "\u001b[0;31m---------------------------------------------------------------------------\u001b[0m",
      "\u001b[0;31mIndexError\u001b[0m                                Traceback (most recent call last)",
      "Cell \u001b[0;32mIn[28], line 10\u001b[0m\n\u001b[1;32m      7\u001b[0m step_counter \u001b[39m=\u001b[39m \u001b[39m0\u001b[39m\n\u001b[1;32m      9\u001b[0m \u001b[39mwhile\u001b[39;00m \u001b[39mnot\u001b[39;00m np\u001b[39m.\u001b[39marray_equal(cp, ep):\n\u001b[0;32m---> 10\u001b[0m     cp \u001b[39m=\u001b[39m make_move(cp, mat)\n\u001b[1;32m     11\u001b[0m     step_counter\u001b[39m+\u001b[39m\u001b[39m=\u001b[39m\u001b[39m1\u001b[39m\n\u001b[1;32m     13\u001b[0m     \u001b[39mif\u001b[39;00m step_counter \u001b[39m>\u001b[39m \u001b[39m100\u001b[39m:\n",
      "Cell \u001b[0;32mIn[27], line 14\u001b[0m, in \u001b[0;36mmake_move\u001b[0;34m(cp, mat)\u001b[0m\n\u001b[1;32m      9\u001b[0m pot_moves \u001b[39m=\u001b[39m pot_moves[np\u001b[39m.\u001b[39mhstack([a,b])\u001b[39m.\u001b[39mall(axis\u001b[39m=\u001b[39m\u001b[39m1\u001b[39m)]\n\u001b[1;32m     11\u001b[0m valid_moves \u001b[39m=\u001b[39m \u001b[39mabs\u001b[39m(mat[pot_moves[:,\u001b[39m0\u001b[39m], pot_moves[:,\u001b[39m1\u001b[39m]] \u001b[39m-\u001b[39m mat[cp[\u001b[39m0\u001b[39m], cp[\u001b[39m1\u001b[39m]]) \u001b[39m<\u001b[39m \u001b[39m2\u001b[39m\n\u001b[0;32m---> 14\u001b[0m new_p \u001b[39m=\u001b[39m pot_moves[valid_moves][\u001b[39m0\u001b[39;49m] \u001b[39m# this is problematic if we're stuck and no options\u001b[39;00m\n\u001b[1;32m     15\u001b[0m mat[cp[\u001b[39m0\u001b[39m], cp[\u001b[39m1\u001b[39m]] \u001b[39m=\u001b[39m \u001b[39m-\u001b[39m\u001b[39m99\u001b[39m\n\u001b[1;32m     16\u001b[0m \u001b[39mreturn\u001b[39;00m new_p\n",
      "\u001b[0;31mIndexError\u001b[0m: index 0 is out of bounds for axis 0 with size 0"
     ]
    }
   ],
   "source": [
    "#determine the starting position\n",
    "mat = np.array(rows)\n",
    "\n",
    "sp = np.argwhere(mat == 0)[0]\n",
    "ep = np.argwhere(mat == 27)[0]\n",
    "cp = sp\n",
    "step_counter = 0\n",
    "\n",
    "while not np.array_equal(cp, ep):\n",
    "    cp = make_move(cp, mat)\n",
    "    step_counter+=1\n",
    "\n",
    "    if step_counter > 100:\n",
    "        break\n",
    "\n",
    "\n",
    "\n",
    "# 5head - every time we hit more than one path opportunity, create a branch\n",
    "# naive - take 0th option\n",
    "# if no options and not == 27 sadge\n",
    "# if 27 pog break pattern\n",
    "# \"spike\" former position -99\n",
    "# "
   ]
  },
  {
   "cell_type": "code",
   "execution_count": 29,
   "metadata": {},
   "outputs": [
    {
     "data": {
      "text/plain": [
       "62"
      ]
     },
     "execution_count": 29,
     "metadata": {},
     "output_type": "execute_result"
    }
   ],
   "source": [
    "step_counter"
   ]
  },
  {
   "cell_type": "code",
   "execution_count": 36,
   "metadata": {},
   "outputs": [],
   "source": [
    "np.savetxt('test.txt', mat.astype(int), fmt='%i')"
   ]
  },
  {
   "cell_type": "code",
   "execution_count": 22,
   "metadata": {},
   "outputs": [],
   "source": [
    "# possible moves\n",
    "# np.all((adjacent + cp) >= 0, axis=1)"
   ]
  },
  {
   "cell_type": "code",
   "execution_count": 23,
   "metadata": {},
   "outputs": [
    {
     "ename": "SyntaxError",
     "evalue": "':' expected after dictionary key (3430130822.py, line 4)",
     "output_type": "error",
     "traceback": [
      "\u001b[0;36m  Cell \u001b[0;32mIn[23], line 4\u001b[0;36m\u001b[0m\n\u001b[0;31m    [[{'pos': [1,1], 'number of steps thus far': 24, 'branches' []}] ]\u001b[0m\n\u001b[0m                                                              ^\u001b[0m\n\u001b[0;31mSyntaxError\u001b[0m\u001b[0;31m:\u001b[0m ':' expected after dictionary key\n"
     ]
    }
   ],
   "source": [
    "# Try to find all solutions then find the shortest. \n",
    "# Dynamic solution where we break off into branches when needed. count from each branch\n",
    "\n",
    "[[{'pos': [1,1], 'number of steps thus far': 24, 'branches' []}] ]"
   ]
  }
 ],
 "metadata": {
  "kernelspec": {
   "display_name": "datasci",
   "language": "python",
   "name": "python3"
  },
  "language_info": {
   "codemirror_mode": {
    "name": "ipython",
    "version": 3
   },
   "file_extension": ".py",
   "mimetype": "text/x-python",
   "name": "python",
   "nbconvert_exporter": "python",
   "pygments_lexer": "ipython3",
   "version": "3.10.8"
  },
  "orig_nbformat": 4,
  "vscode": {
   "interpreter": {
    "hash": "b47424f6a47a025e1e33d9408614f3c51e1e63a65b24881c1089d123390343d2"
   }
  }
 },
 "nbformat": 4,
 "nbformat_minor": 2
}
