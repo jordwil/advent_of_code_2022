{
 "cells": [
  {
   "cell_type": "code",
   "execution_count": 1,
   "metadata": {},
   "outputs": [],
   "source": [
    "import numpy as np\n",
    "import seaborn as sns\n"
   ]
  },
  {
   "cell_type": "code",
   "execution_count": 2,
   "metadata": {},
   "outputs": [
    {
     "data": {
      "text/plain": [
       "'`'"
      ]
     },
     "execution_count": 2,
     "metadata": {},
     "output_type": "execute_result"
    }
   ],
   "source": [
    "# Replace \"E\" with \"{\"\n",
    "chr(123)\n",
    "# Replace \"S\" with \"`\"\n",
    "chr(96)"
   ]
  },
  {
   "cell_type": "code",
   "execution_count": 3,
   "metadata": {},
   "outputs": [],
   "source": [
    "m=\"\"\"Sabqponm\n",
    "abcryxxl\n",
    "accszExk\n",
    "acctuvwj\n",
    "abdefghi\n",
    "\"\"\"\n",
    "\n",
    "with open('../data/aoc12.txt', 'r') as f:\n",
    "   m = f.read()\n",
    "\n",
    "m = m.replace('S', '`').replace('E','{')\n",
    "\n",
    "# What if we started from the end?"
   ]
  },
  {
   "cell_type": "code",
   "execution_count": 4,
   "metadata": {},
   "outputs": [],
   "source": [
    "rows= []\n",
    "for row in m.split():\n",
    "    rows.append([ord(l) - 96 for l in row])"
   ]
  },
  {
   "cell_type": "code",
   "execution_count": 5,
   "metadata": {},
   "outputs": [
    {
     "data": {
      "text/plain": [
       "<matplotlib.axes._subplots.AxesSubplot at 0x7fd8cef37d00>"
      ]
     },
     "execution_count": 5,
     "metadata": {},
     "output_type": "execute_result"
    },
    {
     "data": {
      "image/png": "[encoded data removed]",
      "text/plain": [
       "<Figure size 640x480 with 2 Axes>"
      ]
     },
     "metadata": {},
     "output_type": "display_data"
    }
   ],
   "source": [
    "mat = np.array(rows)\n",
    "sns.heatmap(mat)"
   ]
  },
  {
   "cell_type": "code",
   "execution_count": 6,
   "metadata": {},
   "outputs": [],
   "source": [
    "# def make_move(cp, mat, adj, step):\n",
    "#     step +=1 \n",
    "#     for move in find_moves(cp, mat, adj):\n",
    "#         mat[cp[0], cp[1]] = 30 # Can never be traversed agian\n",
    "#         cp = move\n",
    "#         if np.array_equal(cp, ep):\n",
    "#             print(step)\n",
    "#             return step   \n",
    "#         else:\n",
    "#             make_move(cp, mat, adj, step)\n",
    "        "
   ]
  },
  {
   "cell_type": "code",
   "execution_count": 7,
   "metadata": {},
   "outputs": [
    {
     "data": {
      "text/plain": [
       "array([[1, 2, 1, ..., 1, 1, 1],\n",
       "       [1, 2, 1, ..., 1, 1, 1],\n",
       "       [1, 2, 1, ..., 1, 1, 1],\n",
       "       ...,\n",
       "       [1, 2, 1, ..., 1, 1, 1],\n",
       "       [1, 2, 3, ..., 1, 1, 1],\n",
       "       [1, 2, 3, ..., 1, 1, 1]])"
      ]
     },
     "execution_count": 7,
     "metadata": {},
     "output_type": "execute_result"
    }
   ],
   "source": [
    "mat"
   ]
  },
  {
   "cell_type": "code",
   "execution_count": 8,
   "metadata": {},
   "outputs": [],
   "source": [
    "def find_moves(cp, mat, adj):\n",
    "    pot_moves = adj + cp \n",
    "\n",
    "    # Make sure you're finding true adjacent values.\n",
    "    a=(pot_moves[:,0] < mat.shape[0]).reshape(-1,1)\n",
    "    b=(pot_moves[:,1] < mat.shape[1]).reshape(-1,1)\n",
    "    in_bounds = (np.all(pot_moves >= 0, axis=1) & np.hstack([a,b]).all(axis=1))\n",
    "    pot_moves = pot_moves[in_bounds]\n",
    "    \n",
    "    relative_heights = mat[pot_moves[:,0], pot_moves[:,1]] - mat[cp[0], cp[1]]\n",
    "\n",
    "    climbable = relative_heights <= 1\n",
    "    valid_moves = pot_moves[climbable]\n",
    "    \n",
    "    return valid_moves"
   ]
  },
  {
   "cell_type": "code",
   "execution_count": 37,
   "metadata": {},
   "outputs": [
    {
     "data": {
      "text/plain": [
       "array([0, 2])"
      ]
     },
     "execution_count": 37,
     "metadata": {},
     "output_type": "execute_result"
    }
   ],
   "source": [
    "np.unique(([np.array([0,2]), np.array([0,2])]))"
   ]
  },
  {
   "cell_type": "code",
   "execution_count": 48,
   "metadata": {
    "tags": []
   },
   "outputs": [
    {
     "ename": "IndexError",
     "evalue": "list index out of range",
     "output_type": "error",
     "traceback": [
      "\u001b[0;31m---------------------------------------------------------------------------\u001b[0m",
      "\u001b[0;31mIndexError\u001b[0m                                Traceback (most recent call last)",
      "Cell \u001b[0;32mIn[48], line 24\u001b[0m\n\u001b[1;32m     22\u001b[0m step\u001b[38;5;241m+\u001b[39m\u001b[38;5;241m=\u001b[39m\u001b[38;5;241m1\u001b[39m\n\u001b[1;32m     23\u001b[0m cps\n\u001b[0;32m---> 24\u001b[0m cp_lists \u001b[38;5;241m=\u001b[39m [find_moves(c, mat, adj) \u001b[38;5;28;01mfor\u001b[39;00m c \u001b[38;5;129;01min\u001b[39;00m cp_lists]\n\u001b[1;32m     25\u001b[0m \u001b[38;5;28;01mfor\u001b[39;00m cp_l \u001b[38;5;129;01min\u001b[39;00m cp_lists:\n\u001b[1;32m     28\u001b[0m     cp_l \u001b[38;5;241m=\u001b[39m [cp \u001b[38;5;28;01mfor\u001b[39;00m cp \u001b[38;5;129;01min\u001b[39;00m cp_l \u001b[38;5;28;01mif\u001b[39;00m visited[cp[\u001b[38;5;241m0\u001b[39m], cp[\u001b[38;5;241m1\u001b[39m]] \u001b[38;5;241m==\u001b[39m \u001b[38;5;241m0\u001b[39m] \u001b[38;5;66;03m# Filter visited \u001b[39;00m\n",
      "Cell \u001b[0;32mIn[48], line 24\u001b[0m, in \u001b[0;36m<listcomp>\u001b[0;34m(.0)\u001b[0m\n\u001b[1;32m     22\u001b[0m step\u001b[38;5;241m+\u001b[39m\u001b[38;5;241m=\u001b[39m\u001b[38;5;241m1\u001b[39m\n\u001b[1;32m     23\u001b[0m cps\n\u001b[0;32m---> 24\u001b[0m cp_lists \u001b[38;5;241m=\u001b[39m [\u001b[43mfind_moves\u001b[49m\u001b[43m(\u001b[49m\u001b[43mc\u001b[49m\u001b[43m,\u001b[49m\u001b[43m \u001b[49m\u001b[43mmat\u001b[49m\u001b[43m,\u001b[49m\u001b[43m \u001b[49m\u001b[43madj\u001b[49m\u001b[43m)\u001b[49m \u001b[38;5;28;01mfor\u001b[39;00m c \u001b[38;5;129;01min\u001b[39;00m cp_lists]\n\u001b[1;32m     25\u001b[0m \u001b[38;5;28;01mfor\u001b[39;00m cp_l \u001b[38;5;129;01min\u001b[39;00m cp_lists:\n\u001b[1;32m     28\u001b[0m     cp_l \u001b[38;5;241m=\u001b[39m [cp \u001b[38;5;28;01mfor\u001b[39;00m cp \u001b[38;5;129;01min\u001b[39;00m cp_l \u001b[38;5;28;01mif\u001b[39;00m visited[cp[\u001b[38;5;241m0\u001b[39m], cp[\u001b[38;5;241m1\u001b[39m]] \u001b[38;5;241m==\u001b[39m \u001b[38;5;241m0\u001b[39m] \u001b[38;5;66;03m# Filter visited \u001b[39;00m\n",
      "Cell \u001b[0;32mIn[8], line 10\u001b[0m, in \u001b[0;36mfind_moves\u001b[0;34m(cp, mat, adj)\u001b[0m\n\u001b[1;32m      7\u001b[0m in_bounds \u001b[38;5;241m=\u001b[39m (np\u001b[38;5;241m.\u001b[39mall(pot_moves \u001b[38;5;241m>\u001b[39m\u001b[38;5;241m=\u001b[39m \u001b[38;5;241m0\u001b[39m, axis\u001b[38;5;241m=\u001b[39m\u001b[38;5;241m1\u001b[39m) \u001b[38;5;241m&\u001b[39m np\u001b[38;5;241m.\u001b[39mhstack([a,b])\u001b[38;5;241m.\u001b[39mall(axis\u001b[38;5;241m=\u001b[39m\u001b[38;5;241m1\u001b[39m))\n\u001b[1;32m      8\u001b[0m pot_moves \u001b[38;5;241m=\u001b[39m pot_moves[in_bounds]\n\u001b[0;32m---> 10\u001b[0m relative_heights \u001b[38;5;241m=\u001b[39m mat[pot_moves[:,\u001b[38;5;241m0\u001b[39m], pot_moves[:,\u001b[38;5;241m1\u001b[39m]] \u001b[38;5;241m-\u001b[39m mat[cp[\u001b[38;5;241m0\u001b[39m], \u001b[43mcp\u001b[49m\u001b[43m[\u001b[49m\u001b[38;5;241;43m1\u001b[39;49m\u001b[43m]\u001b[49m]\n\u001b[1;32m     12\u001b[0m climbable \u001b[38;5;241m=\u001b[39m relative_heights \u001b[38;5;241m<\u001b[39m\u001b[38;5;241m=\u001b[39m \u001b[38;5;241m1\u001b[39m\n\u001b[1;32m     13\u001b[0m valid_moves \u001b[38;5;241m=\u001b[39m pot_moves[climbable]\n",
      "\u001b[0;31mIndexError\u001b[0m: list index out of range"
     ]
    }
   ],
   "source": [
    "#determine the starting position\n",
    "mat = np.array(rows)\n",
    "visited = np.zeros(mat.shape)\n",
    "step = 0\n",
    "sp = np.argwhere(mat == 0)[0]\n",
    "ep = np.argwhere(mat == 27)[0]\n",
    "cp_lists = [[sp]]\n",
    "\n",
    "# found sp, now change to 1 \n",
    "\n",
    "\n",
    "adj = np.array([[0,1], [1,0], [-1,0],[0,-1]])\n",
    "\n",
    "# def flatten_and_filt_visited(l):\n",
    "#     return np.unique([cp for sublist in l for cp in sublist if visited[cp[0], cp[1]] == 0])\n",
    "\n",
    "\n",
    "# init \n",
    "\n",
    "found_end = False\n",
    "while not found_end and step < 100000:\n",
    "    step+=1\n",
    "    cps\n",
    "    cp_lists = [find_moves(c, mat, adj) for c in cp_lists]\n",
    "    for cp_l in cp_lists:\n",
    "\n",
    "\n",
    "        cp_l = [cp for cp in cp_l if visited[cp[0], cp[1]] == 0] # Filter visited \n",
    "        \n",
    "        for cp in cp_l:\n",
    "            if np.array_equal(cp, ep):\n",
    "                found_end = True\n",
    "                break\n",
    "            cp_temp.append(cp)\n",
    "            visited[cp[0], cp[1]] = 1\n",
    "    cp_lists = cp_temp\n",
    "    cp_temp = []\n",
    "\n",
    "    \n",
    "#     # for cp in cps:\n",
    "#     #     cps.pop()\n",
    "#     #     if found_end:\n",
    "#     #         break\n",
    "#     #     visited[cp[0], cp[1]] = 1\n",
    "#     #     for move in find_moves(cp, mat, adj):\n",
    "#     #         if np.array_equal(move, ep):\n",
    "#     #             found_end = True\n",
    "#     #         if found_end:\n",
    "#     #             break\n",
    "#     #         if not visited[move[0], move[1]]:\n",
    "#     #             cps.append(move) # preps for next iteration\n",
    "#     #         print(cps)\n",
    "\n",
    "        \n",
    "    "
   ]
  },
  {
   "cell_type": "code",
   "execution_count": 46,
   "metadata": {},
   "outputs": [
    {
     "data": {
      "text/plain": [
       "[[array([20,  0])]]"
      ]
     },
     "execution_count": 46,
     "metadata": {},
     "output_type": "execute_result"
    }
   ],
   "source": [
    "cps"
   ]
  },
  {
   "cell_type": "code",
   "execution_count": 25,
   "metadata": {},
   "outputs": [
    {
     "data": {
      "text/plain": [
       "[array([20,  1]), array([21,  0]), array([19,  0])]"
      ]
     },
     "execution_count": 25,
     "metadata": {},
     "output_type": "execute_result"
    }
   ],
   "source": [
    "[i for i in find_moves(np.array([20,  0]), mat, adj)]"
   ]
  },
  {
   "cell_type": "code",
   "execution_count": null,
   "metadata": {},
   "outputs": [],
   "source": [
    "import seaborn as sns\n",
    "sns.heatmap(mat)"
   ]
  },
  {
   "cell_type": "markdown",
   "metadata": {},
   "source": [
    "## Ideas"
   ]
  },
  {
   "cell_type": "code",
   "execution_count": null,
   "metadata": {},
   "outputs": [],
   "source": [
    "def make_move(cp, mat, adj):\n",
    "    pot_moves = adj + cp \n",
    "\n",
    "    # Make sure you're finding true adjacent values.\n",
    "    a=(pot_moves[:,0] < mat.shape[0]).reshape(-1,1)\n",
    "    b=(pot_moves[:,1] < mat.shape[1]).reshape(-1,1)\n",
    "    in_bounds = (np.all(pot_moves >= 0, axis=1) & np.hstack([a,b]).all(axis=1))\n",
    "    pot_moves = pot_moves[in_bounds]\n",
    "    \n",
    "    relative_heights = mat[pot_moves[:,0], pot_moves[:,1]] - mat[cp[0], cp[1]]\n",
    "\n",
    "    climbable = relative_heights <= 1\n",
    "    valid_moves = pot_moves[climbable]\n",
    "    #print(relative_heights)\n",
    "    #print(mat[cp[0], cp[1]])\n",
    "    print(climbable)\n",
    "    # Try to climb\n",
    "    #new_p = pot_moves[np.argmax(mat[valid_moves[:,0], valid_moves[:,1]])] # this is problematic if we're stuck and no options\n",
    "    print(relative_heights)\n",
    "    # mat[cp[0], cp[1]] = 30\n",
    "    return new_p\n"
   ]
  },
  {
   "cell_type": "code",
   "execution_count": null,
   "metadata": {},
   "outputs": [],
   "source": [
    "# Try to find all solutions then find the shortest. \n",
    "# Dynamic solution where we break off into branches when needed. count from each branch\n",
    "\n",
    "# Try saving a matrix \n",
    "\n",
    "\n",
    "\n",
    "###[[{'pos': [1,1], 'number of steps thus far': 24, 'branches' []}] ]"
   ]
  }
 ],
 "metadata": {
  "kernelspec": {
   "display_name": "Python 3 (ipykernel)",
   "language": "python",
   "name": "python3"
  },
  "language_info": {
   "codemirror_mode": {
    "name": "ipython",
    "version": 3
   },
   "file_extension": ".py",
   "mimetype": "text/x-python",
   "name": "python",
   "nbconvert_exporter": "python",
   "pygments_lexer": "ipython3",
   "version": "3.8.2"
  },
  "vscode": {
   "interpreter": {
    "hash": "b47424f6a47a025e1e33d9408614f3c51e1e63a65b24881c1089d123390343d2"
   }
  }
 },
 "nbformat": 4,
 "nbformat_minor": 4
}
