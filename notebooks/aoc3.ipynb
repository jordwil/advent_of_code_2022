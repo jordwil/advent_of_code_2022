{
 "cells": [
  {
   "cell_type": "code",
   "execution_count": 1,
   "metadata": {},
   "outputs": [],
   "source": [
    "# Get halfway point for each sack to determine split\n",
    "# Split into two \n",
    "# Convert to sets to find the intersect\n",
    "# Convert ascii to int\n",
    "# Take the sum of all\n"
   ]
  },
  {
   "cell_type": "code",
   "execution_count": 2,
   "metadata": {},
   "outputs": [
    {
     "name": "stdout",
     "output_type": "stream",
     "text": [
      "/home/jrazer/projects/aoc-2022/notebooks\n"
     ]
    }
   ],
   "source": [
    "!pwd"
   ]
  },
  {
   "cell_type": "code",
   "execution_count": 16,
   "metadata": {},
   "outputs": [],
   "source": [
    "upper_map = {True: -38, False: -96}"
   ]
  },
  {
   "cell_type": "code",
   "execution_count": 17,
   "metadata": {},
   "outputs": [],
   "source": [
    "# 1st star\n",
    "sum_prior = 0\n",
    "with open(\"../data/in3.txt\", 'r') as f:\n",
    "    for sack in f.readlines():\n",
    "        sack = sack.strip()\n",
    "        \n",
    "        half_in = int(len(sack)/2)\n",
    "        \n",
    "        # Find the common letter in the two sequences \n",
    "        item = list(set(sack[:half_in]).intersection(set(sack[half_in:])))[0]\n",
    "\n",
    "        # Convert item letter to value\n",
    "        priority = ord(item) + upper_map[item.isupper()]\n",
    "        sum_prior += priority"
   ]
  },
  {
   "cell_type": "code",
   "execution_count": 45,
   "metadata": {},
   "outputs": [],
   "source": [
    "# Second Star\n",
    "# Break down in thirds \n",
    "# 1st star\n",
    "sum_badge = 0\n",
    "with open(\"../data/in3.txt\", 'r') as f:\n",
    "    lines = [line for line in f]\n",
    "        \n",
    "for i in range(0, len(lines), 3):\n",
    "    group = lines[i:i+3]\n",
    "\n",
    "    group = [set(g.strip()) for g in group]\n",
    "    \n",
    "    item = list(set.intersection(*group))[0]\n",
    "\n",
    "    priority = ord(item) + upper_map[item.isupper()]\n",
    "    sum_badge += priority\n"
   ]
  },
  {
   "cell_type": "code",
   "execution_count": 46,
   "metadata": {},
   "outputs": [
    {
     "data": {
      "text/plain": [
       "2522"
      ]
     },
     "execution_count": 46,
     "metadata": {},
     "output_type": "execute_result"
    }
   ],
   "source": [
    "sum_badge"
   ]
  },
  {
   "cell_type": "code",
   "execution_count": null,
   "metadata": {},
   "outputs": [],
   "source": []
  }
 ],
 "metadata": {
  "kernelspec": {
   "display_name": "Python 3.10.4 ('datasci': conda)",
   "language": "python",
   "name": "python3"
  },
  "language_info": {
   "codemirror_mode": {
    "name": "ipython",
    "version": 3
   },
   "file_extension": ".py",
   "mimetype": "text/x-python",
   "name": "python",
   "nbconvert_exporter": "python",
   "pygments_lexer": "ipython3",
   "version": "3.10.4"
  },
  "orig_nbformat": 4,
  "vscode": {
   "interpreter": {
    "hash": "a82a29ecac560280292e22e5a1f340ab2afb449ea4ea92d3ff4c82c10efcb363"
   }
  }
 },
 "nbformat": 4,
 "nbformat_minor": 2
}
