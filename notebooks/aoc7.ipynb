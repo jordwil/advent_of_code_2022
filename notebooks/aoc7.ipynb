{
 "cells": [
  {
   "cell_type": "code",
   "execution_count": 1,
   "metadata": {},
   "outputs": [],
   "source": [
    "import re\n",
    "with open('../data/in6.txt','r') as f:\n",
    "    lines = f.read().split('\\n')"
   ]
  },
  {
   "cell_type": "code",
   "execution_count": 3,
   "metadata": {},
   "outputs": [],
   "source": [
    "# Construct the paths with their total file sizes \n",
    "c_paths = {}\n",
    "\n",
    "for l in lines:\n",
    "    if l == '$ cd ..':\n",
    "        c_path = '/'.join(c_path.split('/')[:-1])\n",
    "        if not c_path:\n",
    "            c_path = '/'\n",
    "    \n",
    "    elif l.startswith(\"$ cd\"):\n",
    "        \n",
    "        cdir = l.split('cd')[-1].strip()\n",
    "        if cdir == '/':\n",
    "            c_path = '/'\n",
    "        else:\n",
    "            c_path += f\"/{cdir}\"\n",
    "            \n",
    "        if not c_paths.get(c_path):\n",
    "            c_paths[c_path] = []\n",
    "\n",
    "    elif re.match('\\d+', l):\n",
    "        fs = int(l.split()[0])\n",
    "        c_paths[c_path] += [fs]"
   ]
  },
  {
   "cell_type": "code",
   "execution_count": 5,
   "metadata": {},
   "outputs": [],
   "source": [
    "c_paths = {k:sum(v) for k,v in c_paths.items()}\n",
    "total_size = {}\n",
    "for directory, size in c_paths.items():\n",
    "    total_size[directory] = sum([int(v) for k, v in c_paths.items() if k.startswith(directory)])    "
   ]
  },
  {
   "cell_type": "code",
   "execution_count": 6,
   "metadata": {},
   "outputs": [
    {
     "data": {
      "text/plain": [
       "1118405"
      ]
     },
     "execution_count": 6,
     "metadata": {},
     "output_type": "execute_result"
    }
   ],
   "source": [
    "sum([v for k,v in total_size.items() if v <= 100_000])"
   ]
  },
  {
   "cell_type": "code",
   "execution_count": 8,
   "metadata": {},
   "outputs": [],
   "source": [
    "# pt 2 find a dir to delete"
   ]
  },
  {
   "cell_type": "code",
   "execution_count": 12,
   "metadata": {},
   "outputs": [],
   "source": [
    "total_disk_space = 70000000\n",
    "update_space = 30000000\n",
    "remaining_space = total_disk_space - total_size['/'] "
   ]
  },
  {
   "cell_type": "code",
   "execution_count": 22,
   "metadata": {},
   "outputs": [],
   "source": [
    "remove_space = abs(remaining_space - update_space)"
   ]
  },
  {
   "cell_type": "code",
   "execution_count": 24,
   "metadata": {},
   "outputs": [
    {
     "data": {
      "text/plain": [
       "12545514"
      ]
     },
     "execution_count": 24,
     "metadata": {},
     "output_type": "execute_result"
    }
   ],
   "source": [
    "min([v for k,v in total_size.items() if v >= remove_space])"
   ]
  }
 ],
 "metadata": {
  "kernelspec": {
   "display_name": "Python 3",
   "language": "python",
   "name": "python3"
  },
  "language_info": {
   "codemirror_mode": {
    "name": "ipython",
    "version": 3
   },
   "file_extension": ".py",
   "mimetype": "text/x-python",
   "name": "python",
   "nbconvert_exporter": "python",
   "pygments_lexer": "ipython3",
   "version": "3.8.2"
  },
  "vscode": {
   "interpreter": {
    "hash": "a82a29ecac560280292e22e5a1f340ab2afb449ea4ea92d3ff4c82c10efcb363"
   }
  }
 },
 "nbformat": 4,
 "nbformat_minor": 2
}
