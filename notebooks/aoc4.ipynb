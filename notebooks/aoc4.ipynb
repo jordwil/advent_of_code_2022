{
 "cells": [
  {
   "cell_type": "code",
   "execution_count": 48,
   "metadata": {},
   "outputs": [],
   "source": [
    "inp = '../data/in4.txt'\n",
    "with open(inp, 'r') as f:\n",
    "    lines = f.readlines()"
   ]
  },
  {
   "cell_type": "code",
   "execution_count": 49,
   "metadata": {},
   "outputs": [
    {
     "data": {
      "text/plain": [
       "'21-81,20-96\\n'"
      ]
     },
     "execution_count": 49,
     "metadata": {},
     "output_type": "execute_result"
    }
   ],
   "source": [
    "lines[0]"
   ]
  },
  {
   "cell_type": "code",
   "execution_count": 50,
   "metadata": {},
   "outputs": [],
   "source": [
    "counter = 0\n",
    "for line in lines:\n",
    "    ranges = []\n",
    "    for i in line.strip().split(','):\n",
    "        start, end = (list(map(int, i.split('-'))))\n",
    "        ranges.append(range(start, end+1))\n",
    "    \n",
    "    int_length = len(set.intersection(set(ranges[0]), set(ranges[1])))\n",
    "\n",
    "    if (int_length == len(ranges[0])) or (int_length == len(ranges[1])):\n",
    "        counter += 1\n"
   ]
  },
  {
   "cell_type": "code",
   "execution_count": 51,
   "metadata": {},
   "outputs": [
    {
     "data": {
      "text/plain": [
       "511"
      ]
     },
     "execution_count": 51,
     "metadata": {},
     "output_type": "execute_result"
    }
   ],
   "source": [
    "counter"
   ]
  },
  {
   "cell_type": "code",
   "execution_count": 36,
   "metadata": {},
   "outputs": [
    {
     "data": {
      "text/plain": [
       "True"
      ]
     },
     "execution_count": 36,
     "metadata": {},
     "output_type": "execute_result"
    }
   ],
   "source": [
    "l = [1,2,3,4]\n",
    "r = [2,3,4]\n",
    "\n",
    "l[1] >= r[0]\n",
    "l[-1] <= r[-1]"
   ]
  },
  {
   "cell_type": "code",
   "execution_count": 41,
   "metadata": {},
   "outputs": [
    {
     "data": {
      "text/plain": [
       "61"
      ]
     },
     "execution_count": 41,
     "metadata": {},
     "output_type": "execute_result"
    }
   ],
   "source": []
  },
  {
   "cell_type": "code",
   "execution_count": 42,
   "metadata": {},
   "outputs": [
    {
     "data": {
      "text/plain": [
       "61"
      ]
     },
     "execution_count": 42,
     "metadata": {},
     "output_type": "execute_result"
    }
   ],
   "source": [
    "len(ranges[0])"
   ]
  },
  {
   "cell_type": "code",
   "execution_count": null,
   "metadata": {},
   "outputs": [],
   "source": [
    "counter = 0\n",
    "for line in lines:\n",
    "    ranges = []\n",
    "    for i in line.strip().split(','):\n",
    "        start, end = (list(map(int, i.split('-'))))\n",
    "        ranges.append(range(start, end+1))\n",
    "    \n",
    "    int_length = len(set.intersection(set(ranges[0]), set(ranges[1])))\n",
    "\n",
    "    if int_length > 0\n",
    "        counter += 1\n"
   ]
  }
 ],
 "metadata": {
  "kernelspec": {
   "display_name": "Python 3.10.4 ('datasci': conda)",
   "language": "python",
   "name": "python3"
  },
  "language_info": {
   "codemirror_mode": {
    "name": "ipython",
    "version": 3
   },
   "file_extension": ".py",
   "mimetype": "text/x-python",
   "name": "python",
   "nbconvert_exporter": "python",
   "pygments_lexer": "ipython3",
   "version": "3.10.4"
  },
  "orig_nbformat": 4,
  "vscode": {
   "interpreter": {
    "hash": "a82a29ecac560280292e22e5a1f340ab2afb449ea4ea92d3ff4c82c10efcb363"
   }
  }
 },
 "nbformat": 4,
 "nbformat_minor": 2
}
