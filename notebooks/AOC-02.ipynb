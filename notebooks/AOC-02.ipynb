{
 "cells": [
  {
   "cell_type": "code",
   "execution_count": 14,
   "metadata": {},
   "outputs": [],
   "source": [
    "\n",
    "# 0 Lose, 3 Draw, 6 Win\n",
    "\n",
    "# Draws\n",
    "# RR AX \n",
    "# PP BY\n",
    "# SS CZ\n",
    "\n",
    "\n",
    "# Wins\n",
    "# RP AY\n",
    "# PS BZ\n",
    "# SR CX\n",
    "\n",
    "# Loss\n",
    "# RS AZ\n",
    "# PR BX\n",
    "# SP CY\n"
   ]
  },
  {
   "cell_type": "code",
   "execution_count": 15,
   "metadata": {},
   "outputs": [],
   "source": [
    "inp = '..data/in.txt'\n",
    "\n",
    "round_score={\n",
    "   'Draw': 3,\n",
    "    'Win': 6,\n",
    "    'Loss': 0\n",
    "}\n",
    "\n",
    "shape_score={\n",
    "    'X' : 1,\n",
    "    'Y': 2,\n",
    "    'Z': 3\n",
    "}\n",
    "\n",
    "draws = {el: 'Draw' for el in ['A X' ,'B Y', 'C Z']}\n",
    "wins = {el: 'Win' for el in ['A Y' ,'B Z', 'C X']}\n",
    "loss = {el: 'Loss' for el in ['A Z' ,'B X', 'C Y']} \n",
    "\n",
    "outcome = {**draws, **wins, **loss}\n",
    "\n",
    "total = 0\n",
    "with open(inp, 'r') as f:\n",
    "    for a in f.readlines():\n",
    "        a = a.strip()\n",
    "        shape = a.split(' ')[-1]\n",
    "        total += round_score[outcome[a]] + shape_score[shape]"
   ]
  },
  {
   "cell_type": "code",
   "execution_count": 17,
   "metadata": {},
   "outputs": [
    {
     "data": {
      "text/plain": [
       "{'A': {'Draw': 'X', 'Win': 'Y', 'Loss': 'Z'},\n",
       " 'B': {'Draw': 'Y', 'Win': 'Z', 'Loss': 'X'},\n",
       " 'C': {'Draw': 'Z', 'Win': 'X', 'Loss': 'Y'}}"
      ]
     },
     "execution_count": 17,
     "metadata": {},
     "output_type": "execute_result"
    }
   ],
   "source": [
    "# Create a nested Dict: \n",
    "left_outcome= {}\n",
    "for k, v in outcome.items():\n",
    "    left, right = k.split(' ')\n",
    "    try:\n",
    "        left_outcome[left].update({v:right})        \n",
    "    except:\n",
    "        left_outcome[left] = {v : right}\n",
    "        \n",
    "left_outcome"
   ]
  },
  {
   "cell_type": "code",
   "execution_count": 20,
   "metadata": {},
   "outputs": [],
   "source": [
    "#pt 2\n",
    "\n",
    "outcome_map = {'X': 'Loss',\n",
    "'Y': 'Draw',\n",
    "'Z': 'Win'\n",
    "}\n",
    "\n",
    "\n",
    "# Determine Shape \n",
    "total = 0\n",
    "with open(inp, 'r') as f:\n",
    "    for a in f.readlines():\n",
    "        a = a.strip()\n",
    "        left, outcome = a.split(' ')\n",
    "\n",
    "        shape = left_outcome[left][outcome_map[outcome]]\n",
    "        total += round_score[outcome_map[outcome]] + shape_score[shape]"
   ]
  }
 ],
 "metadata": {
  "jupytext": {
   "cell_metadata_filter": "-all",
   "formats": "ipynb,py",
   "main_language": "python"
  },
  "kernelspec": {
   "display_name": "Python 3",
   "language": "python",
   "name": "python3"
  },
  "language_info": {
   "codemirror_mode": {
    "name": "ipython",
    "version": 3
   },
   "file_extension": ".py",
   "mimetype": "text/x-python",
   "name": "python",
   "nbconvert_exporter": "python",
   "pygments_lexer": "ipython3",
   "version": "3.8.2"
  },
  "vscode": {
   "interpreter": {
    "hash": "3f18d8c0da1d03211690cee4b12c1224f5d760d35eb89485ab12b196df87080b"
   }
  }
 },
 "nbformat": 4,
 "nbformat_minor": 5
}
